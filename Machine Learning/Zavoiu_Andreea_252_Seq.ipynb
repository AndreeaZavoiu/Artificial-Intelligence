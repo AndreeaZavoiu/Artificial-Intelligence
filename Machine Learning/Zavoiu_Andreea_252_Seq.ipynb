{
 "cells": [
  {
   "cell_type": "code",
   "execution_count": null,
   "id": "552c49ab-946e-49cc-b9a5-189af8607aff",
   "metadata": {},
   "outputs": [],
   "source": [
    "import numpy as np\n",
    "import pandas as pd"
   ]
  },
  {
   "cell_type": "code",
   "execution_count": null,
   "id": "8f7f9306-e6cf-4535-97c3-86b85ff47269",
   "metadata": {},
   "outputs": [],
   "source": [
    "# CITIREA DATELOR DIN FISIERELE TEXT"
   ]
  },
  {
   "cell_type": "code",
   "execution_count": null,
   "id": "03192022-27c3-49d3-b168-d31e60a70ce7",
   "metadata": {},
   "outputs": [],
   "source": [
    "train_sample_stuff = pd.read_csv('data/train_samples.txt', sep='\t', header=None)\n",
    "# retin doar textele intr-un array (fara id-ul de la inceput)\n",
    "train_samples = train_sample_stuff[1]\n",
    "\n",
    "train_label_stuff = pd.read_csv('data/train_labels.txt', sep = '\\t', header=None)\n",
    "# retin doar label-urile intr-un array (fara id-ul de la inceput)\n",
    "train_labels = train_label_stuff[1]"
   ]
  },
  {
   "cell_type": "code",
   "execution_count": null,
   "id": "c0ef97a0-14fd-4f17-9519-a8179328d1df",
   "metadata": {},
   "outputs": [],
   "source": [
    "validation_sample_stuff = pd.read_csv('data/validation_samples.txt', sep='\t', header=None)\n",
    "# retin doar textele intr-un array (fara id-ul de la inceput)\n",
    "validation_samples = validation_sample_stuff[1]\n",
    "\n",
    "validation_label_stuff = pd.read_csv('data/validation_labels.txt', sep='\t', header=None)\n",
    "# retin doar label-urile intr-un array (fara id-ul de la inceput)\n",
    "validation_labels = validation_label_stuff[1]"
   ]
  },
  {
   "cell_type": "code",
   "execution_count": null,
   "id": "41c27100-29cf-4aeb-852c-04be2afc0e0c",
   "metadata": {},
   "outputs": [],
   "source": [
    "test_sample_stuff = pd.read_csv('data/test_samples.txt', sep='\t', header=None)\n",
    "test_samples = test_sample_stuff[1]\n",
    "test_list = [word.split() for word in test_samples]"
   ]
  },
  {
   "cell_type": "code",
   "execution_count": null,
   "id": "b24a2409-e3be-4eaa-984a-465be030dac2",
   "metadata": {},
   "outputs": [],
   "source": []
  },
  {
   "cell_type": "code",
   "execution_count": null,
   "id": "29408315-02e6-4596-b62b-ac7c6598f86c",
   "metadata": {},
   "outputs": [],
   "source": [
    "# ONE HOT ENCODING\n",
    "# transform fiecare label intr-un array de 3 'biti'\n",
    "# bitul de pe pozitia 1 reprezinta labelul 1 s.a.m.d."
   ]
  },
  {
   "cell_type": "code",
   "execution_count": null,
   "id": "64d54918-6c01-404d-b8ab-7754915772e9",
   "metadata": {},
   "outputs": [],
   "source": [
    "# array-ul este intai initializat cu zerouri; 10000 de linii cate texte sunt in setul de validare si 3 coloane cate sunt label-urile\n",
    "train_labels_encoded = np.zeros((10000, 3), dtype=int)\n",
    "\n",
    "# apoi pentru fiecare text, formatez label-ul setand bitul 1 in functie de pozitie\n",
    "for i in range(0,5000):\n",
    "    tl = train_labels[i]\n",
    "    if tl==1:\n",
    "        train_labels_encoded[i, 0] = 1\n",
    "    if tl==2:\n",
    "        train_labels_encoded[i, 1] = 1\n",
    "    if tl==3:\n",
    "        train_labels_encoded[i, 2] = 1"
   ]
  },
  {
   "cell_type": "code",
   "execution_count": null,
   "id": "41dd6b3e-75b4-41b2-8123-077bd05c6e38",
   "metadata": {},
   "outputs": [],
   "source": [
    "# array-ul este intai initializat cu zerouri; 5000 de linii cate texte sunt in setul de validare si 3 coloane cate sunt label-urile\n",
    "validation_labels_encoded = np.zeros((5000, 3), dtype=int)\n",
    "\n",
    "# apoi pentru fiecare text, formatez label-ul setand bitul 1 in functie de pozitie\n",
    "for i in range(0,5000):\n",
    "    tl = validation_labels[i]\n",
    "    if tl==1:\n",
    "        validation_labels_encoded[i, 0] = 1\n",
    "    if tl==2:\n",
    "        validation_labels_encoded[i, 1] = 1\n",
    "    if tl==3:\n",
    "        validation_labels_encoded[i, 2] = 1"
   ]
  },
  {
   "cell_type": "code",
   "execution_count": null,
   "id": "ccfd47ee-f8b3-4503-89a1-4535de7a6e80",
   "metadata": {},
   "outputs": [],
   "source": []
  },
  {
   "cell_type": "code",
   "execution_count": null,
   "id": "63f28ac3-5401-473c-a431-b481df15e1e0",
   "metadata": {},
   "outputs": [],
   "source": [
    "# PREPROCESAREA TEXTULUI CU TFID\n",
    "# in functie de probabilitatea de aparitie a unui cuvant in texte, le ignora pe cele cu aceasta metrica foarte mica\n",
    "from sklearn.feature_extraction.text import TfidfVectorizer\n",
    "\n",
    "# desparte cuvintele dupa spatii\n",
    "tfidf_vec = TfidfVectorizer(token_pattern = r'[^\\s]+')\n",
    "# invatare vocabular din setul de train si construire a matricii de probabilitati de aparitie a fiecarui cuvant din vocabular\n",
    "X_train_TF = tfidf_vec.fit_transform(train_samples) \n",
    "# foloseste si datele de validare si testare pentru a construi matricea de pbb \n",
    "X_val_TF = tfidf_vec.transform(validation_samples) \n",
    "X_test_TF = tfidf_vec.transform(test_samples) \n",
    "\n",
    "# returneaza un tuplu (document_id, token_id) si probabilitatea cu care apare respectivul cuvant in dictionar"
   ]
  },
  {
   "cell_type": "code",
   "execution_count": null,
   "id": "5082528c-a9ef-4e1c-940b-106f9cbb0b71",
   "metadata": {},
   "outputs": [],
   "source": []
  },
  {
   "cell_type": "code",
   "execution_count": null,
   "id": "08c10857-765b-4601-83c2-c70f4760978a",
   "metadata": {},
   "outputs": [],
   "source": [
    "# DEFINIREA MODELULUI\n",
    "\n",
    "from keras.models import Sequential\n",
    "from keras import layers\n",
    "\n",
    "# dimensiunea inputului pentru primul strat din reteaua neurala\n",
    "dimensiune_input = X_train_TF.shape[1]\n",
    "\n",
    "modelSeq = Sequential()\n",
    "# primul strat din retea: dimensiune_output, dimensiune_input, functie_de_activare\n",
    "modelSeq.add(layers.Dense(100, input_dim=input_dim, activation='relu'))\n",
    "# al doilea strat din retea: dimensiune_output, functie_de_activare \n",
    "modelSeq.add(layers.Dense(3, activation='softmax'))\n",
    "# dimensiunea input-ului pentru acesta este dimensiunea output-ului layer-ului anterior, adica 100"
   ]
  },
  {
   "cell_type": "code",
   "execution_count": null,
   "id": "36c24bb8-5eb8-4635-8019-4b0d5bd76049",
   "metadata": {},
   "outputs": [],
   "source": [
    "# CONFIGURAREA MODELULUI PENTRU ANTRENARE\n",
    "\n",
    "# functie de calculare a loss-ului, algoritm de optimizare a loss-ului, metrica de calculare a performantei\n",
    "modelSeq.compile(loss='binary_crossentropy', \n",
    "              optimizer='adam', \n",
    "              metrics=['accuracy'])"
   ]
  },
  {
   "cell_type": "code",
   "execution_count": null,
   "id": "5c886723-f436-49f3-a128-7f15b6f847b8",
   "metadata": {},
   "outputs": [],
   "source": [
    "# ANTRENAREA MODELULUI\n",
    "\n",
    "# inputul sunt datele de antrenare, nr de iteratii facute pe input pentru antrenare, fara detalii, setul pe care sa se faca evaluarea scorului este cel \n",
    "# de validare, batch_size reprezinta numarul de texte dupa care sa actualizeze gradientul daca acesta nu s-a imbunatatitit\n",
    "modelSeq.fit(X_train_TF, train_labels_encoded,\n",
    "                    epochs=100,\n",
    "                    verbose=False,\n",
    "                    validation_data=(X_val_TF, validation_labels_encoded),\n",
    "                    batch_size=10)"
   ]
  },
  {
   "cell_type": "code",
   "execution_count": null,
   "id": "e9fddfc3-63ce-4c62-8bf9-11c7f2593c86",
   "metadata": {},
   "outputs": [],
   "source": [
    "# EVALUAREA ACURATETII\n",
    "\n",
    "# texte_validare, labels_validare, fara_detalii\n",
    "loss, accuracy = model.evaluate(X_val_TF, validation_labels_encoded, verbose=False)\n",
    "# print(\"Validation Accuracy:  {:.4f}\".format(accuracy))"
   ]
  },
  {
   "cell_type": "code",
   "execution_count": null,
   "id": "02c6bbb5-e50e-4c10-8f15-9336f13233d8",
   "metadata": {},
   "outputs": [],
   "source": [
    "# PREZICEREA LABEL-URILOR PENTRU SETUL DE TESTARE\n",
    "\n",
    "predicted_test_labels = model.predict(X_test_TF)\n",
    "\n",
    "# este nevoie de rotunjirea label-urilor din cauza ca TfidVectorizer a returnat probabilitati pentru label-urile prezise\n",
    "predicted_test_labels_rounded = np.around(predicted_test_labels)"
   ]
  },
  {
   "cell_type": "code",
   "execution_count": null,
   "id": "9ee8b479-687e-4c49-abaa-b087f2af5d89",
   "metadata": {},
   "outputs": [],
   "source": []
  },
  {
   "cell_type": "code",
   "execution_count": null,
   "id": "07716553-ffcc-4218-9c68-2d0bfb031951",
   "metadata": {},
   "outputs": [],
   "source": [
    "# SCRIEREA LABEL-URILOR IN FISIERUL TEXT DE SUBMISIE\n",
    "\n",
    "# x este lista pe care o voi scrie in fisierul de submisie\n",
    "x = [['id','label']]\n",
    "test_ids = test_sample_stuff[0]\n",
    "\n",
    "for i in range(len(test_sample_stuff)):\n",
    "    row = []\n",
    "    predicted_array_of_labels = predicted_test_labels_rounded[i]\n",
    "    if predicted_array_of_labels[0]:\n",
    "        predicted_label = 1\n",
    "    if predicted_array_of_labels[1]:\n",
    "        predicted_label = 2\n",
    "    if predicted_array_of_labels[2]:\n",
    "        predicted_label = 3\n",
    "    row.append(test_ids[i])\n",
    "    row.append(predicted_label)\n",
    "    x.append(row)\n",
    "\n",
    "np.savetxt('sample_submission.txt', x, delimiter=',', newline='\\n', fmt='%s')"
   ]
  }
 ],
 "metadata": {
  "kernelspec": {
   "display_name": "Python 3 (ipykernel)",
   "language": "python",
   "name": "python3"
  },
  "language_info": {
   "codemirror_mode": {
    "name": "ipython",
    "version": 3
   },
   "file_extension": ".py",
   "mimetype": "text/x-python",
   "name": "python",
   "nbconvert_exporter": "python",
   "pygments_lexer": "ipython3",
   "version": "3.9.12"
  }
 },
 "nbformat": 4,
 "nbformat_minor": 5
}
